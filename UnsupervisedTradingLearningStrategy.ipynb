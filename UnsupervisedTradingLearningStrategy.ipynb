{
 "cells": [
  {
   "cell_type": "markdown",
   "metadata": {},
   "source": [
    "# 1. Download SP500 Price Data"
   ]
  },
  {
   "cell_type": "markdown",
   "metadata": {},
   "source": [
    "## 1.1 Import all necessary libraries"
   ]
  },
  {
   "cell_type": "code",
   "execution_count": 2,
   "metadata": {},
   "outputs": [],
   "source": [
    "import pandas as pd\n",
    "import numpy as np\n",
    "import matplotlib.pyplot as pyplt\n",
    "import statsmodels.api as sm\n",
    "import pandas_datareader.data as web\n",
    "import datetime as dt\n",
    "import yfinance as yf\n",
    "import pandas_ta\n",
    "import warnings\n",
    "from statsmodels.regression.rolling import RollingOLS"
   ]
  },
  {
   "cell_type": "code",
   "execution_count": 3,
   "metadata": {},
   "outputs": [],
   "source": [
    "warnings.filterwarnings('ignore')"
   ]
  },
  {
   "cell_type": "markdown",
   "metadata": {},
   "source": [
    "## 1.2 Download the SP500 Constituent Data"
   ]
  },
  {
   "cell_type": "code",
   "execution_count": 6,
   "metadata": {},
   "outputs": [
    {
     "name": "stdout",
     "output_type": "stream",
     "text": [
      "[    Symbol            Security  ...      CIK      Founded\n",
      "0      MMM                  3M  ...    66740         1902\n",
      "1      AOS         A. O. Smith  ...    91142         1916\n",
      "2      ABT              Abbott  ...     1800         1888\n",
      "3     ABBV              AbbVie  ...  1551152  2013 (1888)\n",
      "4      ACN           Accenture  ...  1467373         1989\n",
      "..     ...                 ...  ...      ...          ...\n",
      "498    XYL          Xylem Inc.  ...  1524472         2011\n",
      "499    YUM         Yum! Brands  ...  1041061         1997\n",
      "500   ZBRA  Zebra Technologies  ...   877212         1969\n",
      "501    ZBH       Zimmer Biomet  ...  1136869         1927\n",
      "502    ZTS              Zoetis  ...  1555280         1952\n",
      "\n",
      "[503 rows x 8 columns],                   Date  ...                                             Reason\n",
      "                  Date  ...                                             Reason\n",
      "0        April 3, 2024  ...                   Market capitalization change.[4]\n",
      "1        April 3, 2024  ...                   Market capitalization change.[4]\n",
      "2        April 2, 2024  ...  S&P 500 and 100 constituent General Electric C...\n",
      "3        April 1, 2024  ...  S&P 500 and 100 constituent 3M Co. spun off So...\n",
      "4       March 18, 2024  ...                   Market capitalization change.[5]\n",
      "..                 ...  ...                                                ...\n",
      "339       June 9, 1999  ...           Harnischfeger filed for bankruptcy.[254]\n",
      "340  December 11, 1998  ...                           BP purchased Amoco.[255]\n",
      "341  December 11, 1998  ...      Berkshire Hathaway purchased General Re.[255]\n",
      "342  December 11, 1998  ...                     AIG purchased SunAmerica.[255]\n",
      "343      June 17, 1997  ...                          AIG acquired USLife.[256]\n",
      "\n",
      "[344 rows x 6 columns]]\n"
     ]
    }
   ],
   "source": [
    "sp500 = pd.read_html(\"https://en.wikipedia.org/wiki/List_of_S%26P_500_companies\")\n",
    "print(sp500)"
   ]
  },
  {
   "cell_type": "markdown",
   "metadata": {},
   "source": [
    "## 1.3 Clean the Data\n",
    "\n",
    "- Isolate the ticker symbols"
   ]
  },
  {
   "cell_type": "code",
   "execution_count": null,
   "metadata": {},
   "outputs": [],
   "source": [
    "tickers = "
   ]
  },
  {
   "cell_type": "markdown",
   "metadata": {},
   "source": [
    "# 2. Calculate Different Technical Indicators per Stock"
   ]
  },
  {
   "cell_type": "markdown",
   "metadata": {},
   "source": [
    "# 3. Aggregate on Monthley Level and Filter per Month the Most Liquid Stocks"
   ]
  },
  {
   "cell_type": "markdown",
   "metadata": {},
   "source": [
    "# 4. Calculate Monthly Returns for Different Time-Horizons"
   ]
  },
  {
   "cell_type": "markdown",
   "metadata": {},
   "source": [
    "# 5. Download Fama-French Factors; Calculate Rolling Factor Betas Per Stock"
   ]
  },
  {
   "cell_type": "markdown",
   "metadata": {},
   "source": [
    "# 6.  Per Month, Create a K-means Clustering Model to group similar assets based on their Features"
   ]
  },
  {
   "cell_type": "markdown",
   "metadata": {},
   "source": [
    "# 7. Per Month, Select Assets Based on the Cluster and Build a Portfolio Based on That"
   ]
  },
  {
   "cell_type": "markdown",
   "metadata": {},
   "source": [
    "# 8. Visualize the Portfolio Returns and Compare That with the SP500 "
   ]
  }
 ],
 "metadata": {
  "kernelspec": {
   "display_name": "Python 3",
   "language": "python",
   "name": "python3"
  },
  "language_info": {
   "codemirror_mode": {
    "name": "ipython",
    "version": 3
   },
   "file_extension": ".py",
   "mimetype": "text/x-python",
   "name": "python",
   "nbconvert_exporter": "python",
   "pygments_lexer": "ipython3",
   "version": "3.12.1"
  }
 },
 "nbformat": 4,
 "nbformat_minor": 2
}

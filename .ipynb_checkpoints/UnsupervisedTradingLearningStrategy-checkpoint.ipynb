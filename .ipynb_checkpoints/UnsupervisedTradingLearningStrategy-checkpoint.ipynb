{
 "cells": [
  {
   "cell_type": "markdown",
   "metadata": {},
   "source": [
    "# 1. Download SP500 Price Data"
   ]
  },
  {
   "cell_type": "markdown",
   "metadata": {},
   "source": [
    "## 1.1 Import all necessary libraries"
   ]
  },
  {
   "cell_type": "code",
   "execution_count": 8,
   "metadata": {},
   "outputs": [],
   "source": [
    "import pandas as pd\n",
    "import numpy as np\n",
    "import matplotlib.pyplot as pyplt\n",
    "import statsmodels.api as sm\n",
    "import pandas_datareader.data as web\n",
    "import datetime as dt\n",
    "import yfinance as yf\n",
    "import pandas_ta\n",
    "import warnings\n",
    "from statsmodels.regression.rolling import RollingOLS"
   ]
  },
  {
   "cell_type": "code",
   "execution_count": 9,
   "metadata": {},
   "outputs": [],
   "source": [
    "warnings.filterwarnings('ignore')"
   ]
  },
  {
   "cell_type": "markdown",
   "metadata": {},
   "source": [
    "## 1.2 Download the SP500 Constituent Data"
   ]
  },
  {
   "cell_type": "code",
   "execution_count": 10,
   "metadata": {},
   "outputs": [
    {
     "name": "stdout",
     "output_type": "stream",
     "text": [
      "<class 'pandas.core.frame.DataFrame'>\n"
     ]
    }
   ],
   "source": [
    "sp500 = pd.read_html(\"https://en.wikipedia.org/wiki/List_of_S%26P_500_companies\")\n",
    "print(type(sp500[0]))\n"
   ]
  },
  {
   "cell_type": "markdown",
   "metadata": {},
   "source": [
    "## 1.3 Clean the Data\n",
    "\n",
    "- Isolate the ticker symbols\n",
    "- Store the isoalted ticker symbols into a list"
   ]
  },
  {
   "cell_type": "code",
   "execution_count": 11,
   "metadata": {},
   "outputs": [],
   "source": [
    "tickers_list = sp500[0][\"Symbol\"].tolist()"
   ]
  },
  {
   "cell_type": "markdown",
   "metadata": {},
   "source": [
    "## 1.4 Take the start and end date to determine a range\n",
    "\n",
    "- For this example, I will use 8 years"
   ]
  },
  {
   "cell_type": "code",
   "execution_count": 23,
   "metadata": {},
   "outputs": [],
   "source": [
    "end_date = dt.datetime.today()\n",
    "start_date = pd.to_datetime(end_date)-pd.DateOffset(365*8)"
   ]
  },
  {
   "cell_type": "markdown",
   "metadata": {},
   "source": [
    "## 1.5.1 Per ticker, download the necessary information from the start date to the end date"
   ]
  },
  {
   "cell_type": "code",
   "execution_count": 24,
   "metadata": {},
   "outputs": [
    {
     "name": "stderr",
     "output_type": "stream",
     "text": [
      "[*********************100%%**********************]  503 of 503 completed\n",
      "\n",
      "2 Failed downloads:\n",
      "['BF.B']: Exception('%ticker%: No price data found, symbol may be delisted (1d 2016-05-05 16:08:34.621139 -> 2024-05-03 16:08:34.621139)')\n",
      "['BRK.B']: Exception('%ticker%: No timezone found, symbol may be delisted')\n"
     ]
    },
    {
     "data": {
      "text/html": [
       "<div>\n",
       "<style scoped>\n",
       "    .dataframe tbody tr th:only-of-type {\n",
       "        vertical-align: middle;\n",
       "    }\n",
       "\n",
       "    .dataframe tbody tr th {\n",
       "        vertical-align: top;\n",
       "    }\n",
       "\n",
       "    .dataframe thead th {\n",
       "        text-align: right;\n",
       "    }\n",
       "</style>\n",
       "<table border=\"1\" class=\"dataframe\">\n",
       "  <thead>\n",
       "    <tr style=\"text-align: right;\">\n",
       "      <th></th>\n",
       "      <th>Price</th>\n",
       "      <th>Adj Close</th>\n",
       "      <th>Close</th>\n",
       "      <th>High</th>\n",
       "      <th>Low</th>\n",
       "      <th>Open</th>\n",
       "      <th>Volume</th>\n",
       "    </tr>\n",
       "    <tr>\n",
       "      <th>Date</th>\n",
       "      <th>Ticker</th>\n",
       "      <th></th>\n",
       "      <th></th>\n",
       "      <th></th>\n",
       "      <th></th>\n",
       "      <th></th>\n",
       "      <th></th>\n",
       "    </tr>\n",
       "  </thead>\n",
       "  <tbody>\n",
       "    <tr>\n",
       "      <th rowspan=\"5\" valign=\"top\">2016-05-05</th>\n",
       "      <th>A</th>\n",
       "      <td>38.436123</td>\n",
       "      <td>40.959999</td>\n",
       "      <td>41.029999</td>\n",
       "      <td>40.509998</td>\n",
       "      <td>40.639999</td>\n",
       "      <td>1084000.0</td>\n",
       "    </tr>\n",
       "    <tr>\n",
       "      <th>AAL</th>\n",
       "      <td>31.531179</td>\n",
       "      <td>32.810001</td>\n",
       "      <td>33.520000</td>\n",
       "      <td>32.730000</td>\n",
       "      <td>33.279999</td>\n",
       "      <td>11606100.0</td>\n",
       "    </tr>\n",
       "    <tr>\n",
       "      <th>AAPL</th>\n",
       "      <td>21.438957</td>\n",
       "      <td>23.309999</td>\n",
       "      <td>23.517500</td>\n",
       "      <td>23.170000</td>\n",
       "      <td>23.500000</td>\n",
       "      <td>143562000.0</td>\n",
       "    </tr>\n",
       "    <tr>\n",
       "      <th>ABBV</th>\n",
       "      <td>44.179379</td>\n",
       "      <td>62.340000</td>\n",
       "      <td>62.400002</td>\n",
       "      <td>61.090000</td>\n",
       "      <td>61.410000</td>\n",
       "      <td>8646200.0</td>\n",
       "    </tr>\n",
       "    <tr>\n",
       "      <th>ABT</th>\n",
       "      <td>33.229504</td>\n",
       "      <td>38.500000</td>\n",
       "      <td>38.730000</td>\n",
       "      <td>38.099998</td>\n",
       "      <td>38.279999</td>\n",
       "      <td>16531000.0</td>\n",
       "    </tr>\n",
       "    <tr>\n",
       "      <th>...</th>\n",
       "      <th>...</th>\n",
       "      <td>...</td>\n",
       "      <td>...</td>\n",
       "      <td>...</td>\n",
       "      <td>...</td>\n",
       "      <td>...</td>\n",
       "      <td>...</td>\n",
       "    </tr>\n",
       "    <tr>\n",
       "      <th rowspan=\"5\" valign=\"top\">2024-05-02</th>\n",
       "      <th>XYL</th>\n",
       "      <td>135.990005</td>\n",
       "      <td>135.990005</td>\n",
       "      <td>137.179993</td>\n",
       "      <td>132.020004</td>\n",
       "      <td>132.429993</td>\n",
       "      <td>2784800.0</td>\n",
       "    </tr>\n",
       "    <tr>\n",
       "      <th>YUM</th>\n",
       "      <td>135.070007</td>\n",
       "      <td>135.070007</td>\n",
       "      <td>136.610001</td>\n",
       "      <td>134.759995</td>\n",
       "      <td>135.500000</td>\n",
       "      <td>2425400.0</td>\n",
       "    </tr>\n",
       "    <tr>\n",
       "      <th>ZBH</th>\n",
       "      <td>118.459999</td>\n",
       "      <td>118.459999</td>\n",
       "      <td>123.959999</td>\n",
       "      <td>117.599998</td>\n",
       "      <td>121.989998</td>\n",
       "      <td>2931700.0</td>\n",
       "    </tr>\n",
       "    <tr>\n",
       "      <th>ZBRA</th>\n",
       "      <td>312.709991</td>\n",
       "      <td>312.709991</td>\n",
       "      <td>315.170013</td>\n",
       "      <td>303.209991</td>\n",
       "      <td>312.230011</td>\n",
       "      <td>507800.0</td>\n",
       "    </tr>\n",
       "    <tr>\n",
       "      <th>ZTS</th>\n",
       "      <td>167.229996</td>\n",
       "      <td>167.229996</td>\n",
       "      <td>169.990005</td>\n",
       "      <td>161.380005</td>\n",
       "      <td>163.100006</td>\n",
       "      <td>5322500.0</td>\n",
       "    </tr>\n",
       "  </tbody>\n",
       "</table>\n",
       "<p>988208 rows × 6 columns</p>\n",
       "</div>"
      ],
      "text/plain": [
       "Price               Adj Close       Close        High         Low        Open  \\\n",
       "Date       Ticker                                                               \n",
       "2016-05-05 A        38.436123   40.959999   41.029999   40.509998   40.639999   \n",
       "           AAL      31.531179   32.810001   33.520000   32.730000   33.279999   \n",
       "           AAPL     21.438957   23.309999   23.517500   23.170000   23.500000   \n",
       "           ABBV     44.179379   62.340000   62.400002   61.090000   61.410000   \n",
       "           ABT      33.229504   38.500000   38.730000   38.099998   38.279999   \n",
       "...                       ...         ...         ...         ...         ...   \n",
       "2024-05-02 XYL     135.990005  135.990005  137.179993  132.020004  132.429993   \n",
       "           YUM     135.070007  135.070007  136.610001  134.759995  135.500000   \n",
       "           ZBH     118.459999  118.459999  123.959999  117.599998  121.989998   \n",
       "           ZBRA    312.709991  312.709991  315.170013  303.209991  312.230011   \n",
       "           ZTS     167.229996  167.229996  169.990005  161.380005  163.100006   \n",
       "\n",
       "Price                   Volume  \n",
       "Date       Ticker               \n",
       "2016-05-05 A         1084000.0  \n",
       "           AAL      11606100.0  \n",
       "           AAPL    143562000.0  \n",
       "           ABBV      8646200.0  \n",
       "           ABT      16531000.0  \n",
       "...                        ...  \n",
       "2024-05-02 XYL       2784800.0  \n",
       "           YUM       2425400.0  \n",
       "           ZBH       2931700.0  \n",
       "           ZBRA       507800.0  \n",
       "           ZTS       5322500.0  \n",
       "\n",
       "[988208 rows x 6 columns]"
      ]
     },
     "execution_count": 24,
     "metadata": {},
     "output_type": "execute_result"
    }
   ],
   "source": [
    "df = yf.download(tickers=tickers_list, \n",
    "                 start = start_date, \n",
    "                 end = end_date).stack()\n",
    "df"
   ]
  },
  {
   "cell_type": "markdown",
   "metadata": {},
   "source": [
    "\n",
    "# 1.5.2 Make Data More Readable"
   ]
  },
  {
   "cell_type": "code",
   "execution_count": 25,
   "metadata": {},
   "outputs": [
    {
     "data": {
      "text/html": [
       "<div>\n",
       "<style scoped>\n",
       "    .dataframe tbody tr th:only-of-type {\n",
       "        vertical-align: middle;\n",
       "    }\n",
       "\n",
       "    .dataframe tbody tr th {\n",
       "        vertical-align: top;\n",
       "    }\n",
       "\n",
       "    .dataframe thead th {\n",
       "        text-align: right;\n",
       "    }\n",
       "</style>\n",
       "<table border=\"1\" class=\"dataframe\">\n",
       "  <thead>\n",
       "    <tr style=\"text-align: right;\">\n",
       "      <th></th>\n",
       "      <th>Price</th>\n",
       "      <th>adj close</th>\n",
       "      <th>close</th>\n",
       "      <th>high</th>\n",
       "      <th>low</th>\n",
       "      <th>open</th>\n",
       "      <th>volume</th>\n",
       "    </tr>\n",
       "    <tr>\n",
       "      <th>date</th>\n",
       "      <th>ticker</th>\n",
       "      <th></th>\n",
       "      <th></th>\n",
       "      <th></th>\n",
       "      <th></th>\n",
       "      <th></th>\n",
       "      <th></th>\n",
       "    </tr>\n",
       "  </thead>\n",
       "  <tbody>\n",
       "    <tr>\n",
       "      <th rowspan=\"5\" valign=\"top\">2016-05-05</th>\n",
       "      <th>A</th>\n",
       "      <td>38.436123</td>\n",
       "      <td>40.959999</td>\n",
       "      <td>41.029999</td>\n",
       "      <td>40.509998</td>\n",
       "      <td>40.639999</td>\n",
       "      <td>1084000.0</td>\n",
       "    </tr>\n",
       "    <tr>\n",
       "      <th>AAL</th>\n",
       "      <td>31.531179</td>\n",
       "      <td>32.810001</td>\n",
       "      <td>33.520000</td>\n",
       "      <td>32.730000</td>\n",
       "      <td>33.279999</td>\n",
       "      <td>11606100.0</td>\n",
       "    </tr>\n",
       "    <tr>\n",
       "      <th>AAPL</th>\n",
       "      <td>21.438957</td>\n",
       "      <td>23.309999</td>\n",
       "      <td>23.517500</td>\n",
       "      <td>23.170000</td>\n",
       "      <td>23.500000</td>\n",
       "      <td>143562000.0</td>\n",
       "    </tr>\n",
       "    <tr>\n",
       "      <th>ABBV</th>\n",
       "      <td>44.179379</td>\n",
       "      <td>62.340000</td>\n",
       "      <td>62.400002</td>\n",
       "      <td>61.090000</td>\n",
       "      <td>61.410000</td>\n",
       "      <td>8646200.0</td>\n",
       "    </tr>\n",
       "    <tr>\n",
       "      <th>ABT</th>\n",
       "      <td>33.229504</td>\n",
       "      <td>38.500000</td>\n",
       "      <td>38.730000</td>\n",
       "      <td>38.099998</td>\n",
       "      <td>38.279999</td>\n",
       "      <td>16531000.0</td>\n",
       "    </tr>\n",
       "    <tr>\n",
       "      <th>...</th>\n",
       "      <th>...</th>\n",
       "      <td>...</td>\n",
       "      <td>...</td>\n",
       "      <td>...</td>\n",
       "      <td>...</td>\n",
       "      <td>...</td>\n",
       "      <td>...</td>\n",
       "    </tr>\n",
       "    <tr>\n",
       "      <th rowspan=\"5\" valign=\"top\">2024-05-02</th>\n",
       "      <th>XYL</th>\n",
       "      <td>135.990005</td>\n",
       "      <td>135.990005</td>\n",
       "      <td>137.179993</td>\n",
       "      <td>132.020004</td>\n",
       "      <td>132.429993</td>\n",
       "      <td>2784800.0</td>\n",
       "    </tr>\n",
       "    <tr>\n",
       "      <th>YUM</th>\n",
       "      <td>135.070007</td>\n",
       "      <td>135.070007</td>\n",
       "      <td>136.610001</td>\n",
       "      <td>134.759995</td>\n",
       "      <td>135.500000</td>\n",
       "      <td>2425400.0</td>\n",
       "    </tr>\n",
       "    <tr>\n",
       "      <th>ZBH</th>\n",
       "      <td>118.459999</td>\n",
       "      <td>118.459999</td>\n",
       "      <td>123.959999</td>\n",
       "      <td>117.599998</td>\n",
       "      <td>121.989998</td>\n",
       "      <td>2931700.0</td>\n",
       "    </tr>\n",
       "    <tr>\n",
       "      <th>ZBRA</th>\n",
       "      <td>312.709991</td>\n",
       "      <td>312.709991</td>\n",
       "      <td>315.170013</td>\n",
       "      <td>303.209991</td>\n",
       "      <td>312.230011</td>\n",
       "      <td>507800.0</td>\n",
       "    </tr>\n",
       "    <tr>\n",
       "      <th>ZTS</th>\n",
       "      <td>167.229996</td>\n",
       "      <td>167.229996</td>\n",
       "      <td>169.990005</td>\n",
       "      <td>161.380005</td>\n",
       "      <td>163.100006</td>\n",
       "      <td>5322500.0</td>\n",
       "    </tr>\n",
       "  </tbody>\n",
       "</table>\n",
       "<p>988208 rows × 6 columns</p>\n",
       "</div>"
      ],
      "text/plain": [
       "Price               adj close       close        high         low        open  \\\n",
       "date       ticker                                                               \n",
       "2016-05-05 A        38.436123   40.959999   41.029999   40.509998   40.639999   \n",
       "           AAL      31.531179   32.810001   33.520000   32.730000   33.279999   \n",
       "           AAPL     21.438957   23.309999   23.517500   23.170000   23.500000   \n",
       "           ABBV     44.179379   62.340000   62.400002   61.090000   61.410000   \n",
       "           ABT      33.229504   38.500000   38.730000   38.099998   38.279999   \n",
       "...                       ...         ...         ...         ...         ...   \n",
       "2024-05-02 XYL     135.990005  135.990005  137.179993  132.020004  132.429993   \n",
       "           YUM     135.070007  135.070007  136.610001  134.759995  135.500000   \n",
       "           ZBH     118.459999  118.459999  123.959999  117.599998  121.989998   \n",
       "           ZBRA    312.709991  312.709991  315.170013  303.209991  312.230011   \n",
       "           ZTS     167.229996  167.229996  169.990005  161.380005  163.100006   \n",
       "\n",
       "Price                   volume  \n",
       "date       ticker               \n",
       "2016-05-05 A         1084000.0  \n",
       "           AAL      11606100.0  \n",
       "           AAPL    143562000.0  \n",
       "           ABBV      8646200.0  \n",
       "           ABT      16531000.0  \n",
       "...                        ...  \n",
       "2024-05-02 XYL       2784800.0  \n",
       "           YUM       2425400.0  \n",
       "           ZBH       2931700.0  \n",
       "           ZBRA       507800.0  \n",
       "           ZTS       5322500.0  \n",
       "\n",
       "[988208 rows x 6 columns]"
      ]
     },
     "execution_count": 25,
     "metadata": {},
     "output_type": "execute_result"
    }
   ],
   "source": [
    "df.index.names = ['date', 'ticker']\n",
    "\n",
    "df.columns = df.columns.str.lower()\n",
    "\n",
    "df"
   ]
  },
  {
   "cell_type": "code",
   "execution_count": null,
   "metadata": {},
   "outputs": [],
   "source": []
  },
  {
   "cell_type": "markdown",
   "metadata": {},
   "source": [
    "# 2. Calculate Different Technical Indicators per Stock\n",
    "\n",
    "- RSI\n",
    "- Bollinger Bands\n",
    "- MACD\n",
    "- ATR\n",
    "- Garman-Klass Volatility\n",
    "- Dollar Volume"
   ]
  },
  {
   "cell_type": "code",
   "execution_count": 26,
   "metadata": {},
   "outputs": [],
   "source": [
    "def compute_atr(tickers_list):\n",
    "    atr = pandas_ta.atr(high = tickers_list['high'],\n",
    "                        low = tickers_list['low'],\n",
    "                        close = tickers_list['close'],\n",
    "                        length = 14)\n",
    "    return atr.sub(atr.mean()).div(atr.std())   "
   ]
  },
  {
   "cell_type": "code",
   "execution_count": 27,
   "metadata": {},
   "outputs": [],
   "source": [
    "def compute_macd(close):\n",
    "    macd = pandas_ta.macd(close=close, length=20).iloc[:,0]\n",
    "    return macd.sub(macd.mean()).div(macd.std())\n"
   ]
  },
  {
   "cell_type": "code",
   "execution_count": 28,
   "metadata": {},
   "outputs": [
    {
     "ename": "AttributeError",
     "evalue": "'NoneType' object has no attribute 'iloc'",
     "output_type": "error",
     "traceback": [
      "\u001b[1;31m---------------------------------------------------------------------------\u001b[0m",
      "\u001b[1;31mAttributeError\u001b[0m                            Traceback (most recent call last)",
      "Cell \u001b[1;32mIn[28], line 11\u001b[0m\n\u001b[0;32m      7\u001b[0m df[\u001b[38;5;124m'\u001b[39m\u001b[38;5;124mbb_upper\u001b[39m\u001b[38;5;124m'\u001b[39m] \u001b[38;5;241m=\u001b[39m df\u001b[38;5;241m.\u001b[39mgroupby(level \u001b[38;5;241m=\u001b[39m \u001b[38;5;241m1\u001b[39m)[\u001b[38;5;124m'\u001b[39m\u001b[38;5;124madj close\u001b[39m\u001b[38;5;124m'\u001b[39m]\u001b[38;5;241m.\u001b[39mtransform(\u001b[38;5;28;01mlambda\u001b[39;00m x: pandas_ta\u001b[38;5;241m.\u001b[39mbbands(close \u001b[38;5;241m=\u001b[39m np\u001b[38;5;241m.\u001b[39mlog1p(x), length \u001b[38;5;241m=\u001b[39m \u001b[38;5;241m20\u001b[39m)\u001b[38;5;241m.\u001b[39miloc[:,\u001b[38;5;241m2\u001b[39m])\n\u001b[0;32m      9\u001b[0m df [\u001b[38;5;124m'\u001b[39m\u001b[38;5;124matr\u001b[39m\u001b[38;5;124m'\u001b[39m] \u001b[38;5;241m=\u001b[39m df\u001b[38;5;241m.\u001b[39mgroupby (level \u001b[38;5;241m=\u001b[39m \u001b[38;5;241m1\u001b[39m, group_keys \u001b[38;5;241m=\u001b[39m \u001b[38;5;28;01mFalse\u001b[39;00m)\u001b[38;5;241m.\u001b[39mapply(compute_atr)\n\u001b[1;32m---> 11\u001b[0m df[\u001b[38;5;124m'\u001b[39m\u001b[38;5;124mmacd\u001b[39m\u001b[38;5;124m'\u001b[39m] \u001b[38;5;241m=\u001b[39m df\u001b[38;5;241m.\u001b[39mgroupby(level \u001b[38;5;241m=\u001b[39m \u001b[38;5;241m1\u001b[39m, group_keys \u001b[38;5;241m=\u001b[39m \u001b[38;5;28;01mFalse\u001b[39;00m)\u001b[38;5;241m.\u001b[39mapply(compute_macd)\n\u001b[0;32m     13\u001b[0m df[\u001b[38;5;124m'\u001b[39m\u001b[38;5;124mgarman_klass_vol\u001b[39m\u001b[38;5;124m'\u001b[39m] \u001b[38;5;241m=\u001b[39m ((np\u001b[38;5;241m.\u001b[39mlog(df[\u001b[38;5;124m'\u001b[39m\u001b[38;5;124mhigh\u001b[39m\u001b[38;5;124m'\u001b[39m])\u001b[38;5;241m-\u001b[39mnp\u001b[38;5;241m.\u001b[39mlog(df[\u001b[38;5;124m'\u001b[39m\u001b[38;5;124mlow\u001b[39m\u001b[38;5;124m'\u001b[39m]))\u001b[38;5;241m*\u001b[39m\u001b[38;5;241m*\u001b[39m\u001b[38;5;241m2\u001b[39m)\u001b[38;5;241m/\u001b[39m\u001b[38;5;241m2\u001b[39m\u001b[38;5;241m-\u001b[39m(\u001b[38;5;241m2\u001b[39m\u001b[38;5;241m*\u001b[39mnp\u001b[38;5;241m.\u001b[39mlog(\u001b[38;5;241m2\u001b[39m)\u001b[38;5;241m-\u001b[39m\u001b[38;5;241m1\u001b[39m)\u001b[38;5;241m*\u001b[39m((np\u001b[38;5;241m.\u001b[39mlog(df[\u001b[38;5;124m'\u001b[39m\u001b[38;5;124madj close\u001b[39m\u001b[38;5;124m'\u001b[39m])\u001b[38;5;241m-\u001b[39mnp\u001b[38;5;241m.\u001b[39mlog(df[\u001b[38;5;124m'\u001b[39m\u001b[38;5;124mopen\u001b[39m\u001b[38;5;124m'\u001b[39m]))\u001b[38;5;241m*\u001b[39m\u001b[38;5;241m*\u001b[39m\u001b[38;5;241m2\u001b[39m)\n",
      "File \u001b[1;32m~\\anaconda3\\Lib\\site-packages\\pandas\\core\\groupby\\groupby.py:1353\u001b[0m, in \u001b[0;36mGroupBy.apply\u001b[1;34m(self, func, *args, **kwargs)\u001b[0m\n\u001b[0;32m   1351\u001b[0m \u001b[38;5;28;01mwith\u001b[39;00m option_context(\u001b[38;5;124m\"\u001b[39m\u001b[38;5;124mmode.chained_assignment\u001b[39m\u001b[38;5;124m\"\u001b[39m, \u001b[38;5;28;01mNone\u001b[39;00m):\n\u001b[0;32m   1352\u001b[0m     \u001b[38;5;28;01mtry\u001b[39;00m:\n\u001b[1;32m-> 1353\u001b[0m         result \u001b[38;5;241m=\u001b[39m \u001b[38;5;28mself\u001b[39m\u001b[38;5;241m.\u001b[39m_python_apply_general(f, \u001b[38;5;28mself\u001b[39m\u001b[38;5;241m.\u001b[39m_selected_obj)\n\u001b[0;32m   1354\u001b[0m     \u001b[38;5;28;01mexcept\u001b[39;00m \u001b[38;5;167;01mTypeError\u001b[39;00m:\n\u001b[0;32m   1355\u001b[0m         \u001b[38;5;66;03m# gh-20949\u001b[39;00m\n\u001b[0;32m   1356\u001b[0m         \u001b[38;5;66;03m# try again, with .apply acting as a filtering\u001b[39;00m\n\u001b[1;32m   (...)\u001b[0m\n\u001b[0;32m   1360\u001b[0m         \u001b[38;5;66;03m# fails on *some* columns, e.g. a numeric operation\u001b[39;00m\n\u001b[0;32m   1361\u001b[0m         \u001b[38;5;66;03m# on a string grouper column\u001b[39;00m\n\u001b[0;32m   1363\u001b[0m         \u001b[38;5;28;01mreturn\u001b[39;00m \u001b[38;5;28mself\u001b[39m\u001b[38;5;241m.\u001b[39m_python_apply_general(f, \u001b[38;5;28mself\u001b[39m\u001b[38;5;241m.\u001b[39m_obj_with_exclusions)\n",
      "File \u001b[1;32m~\\anaconda3\\Lib\\site-packages\\pandas\\core\\groupby\\groupby.py:1402\u001b[0m, in \u001b[0;36mGroupBy._python_apply_general\u001b[1;34m(self, f, data, not_indexed_same, is_transform, is_agg)\u001b[0m\n\u001b[0;32m   1367\u001b[0m \u001b[38;5;129m@final\u001b[39m\n\u001b[0;32m   1368\u001b[0m \u001b[38;5;28;01mdef\u001b[39;00m \u001b[38;5;21m_python_apply_general\u001b[39m(\n\u001b[0;32m   1369\u001b[0m     \u001b[38;5;28mself\u001b[39m,\n\u001b[1;32m   (...)\u001b[0m\n\u001b[0;32m   1374\u001b[0m     is_agg: \u001b[38;5;28mbool\u001b[39m \u001b[38;5;241m=\u001b[39m \u001b[38;5;28;01mFalse\u001b[39;00m,\n\u001b[0;32m   1375\u001b[0m ) \u001b[38;5;241m-\u001b[39m\u001b[38;5;241m>\u001b[39m NDFrameT:\n\u001b[0;32m   1376\u001b[0m \u001b[38;5;250m    \u001b[39m\u001b[38;5;124;03m\"\"\"\u001b[39;00m\n\u001b[0;32m   1377\u001b[0m \u001b[38;5;124;03m    Apply function f in python space\u001b[39;00m\n\u001b[0;32m   1378\u001b[0m \n\u001b[1;32m   (...)\u001b[0m\n\u001b[0;32m   1400\u001b[0m \u001b[38;5;124;03m        data after applying f\u001b[39;00m\n\u001b[0;32m   1401\u001b[0m \u001b[38;5;124;03m    \"\"\"\u001b[39;00m\n\u001b[1;32m-> 1402\u001b[0m     values, mutated \u001b[38;5;241m=\u001b[39m \u001b[38;5;28mself\u001b[39m\u001b[38;5;241m.\u001b[39mgrouper\u001b[38;5;241m.\u001b[39mapply(f, data, \u001b[38;5;28mself\u001b[39m\u001b[38;5;241m.\u001b[39maxis)\n\u001b[0;32m   1403\u001b[0m     \u001b[38;5;28;01mif\u001b[39;00m not_indexed_same \u001b[38;5;129;01mis\u001b[39;00m \u001b[38;5;28;01mNone\u001b[39;00m:\n\u001b[0;32m   1404\u001b[0m         not_indexed_same \u001b[38;5;241m=\u001b[39m mutated\n",
      "File \u001b[1;32m~\\anaconda3\\Lib\\site-packages\\pandas\\core\\groupby\\ops.py:767\u001b[0m, in \u001b[0;36mBaseGrouper.apply\u001b[1;34m(self, f, data, axis)\u001b[0m\n\u001b[0;32m    765\u001b[0m \u001b[38;5;66;03m# group might be modified\u001b[39;00m\n\u001b[0;32m    766\u001b[0m group_axes \u001b[38;5;241m=\u001b[39m group\u001b[38;5;241m.\u001b[39maxes\n\u001b[1;32m--> 767\u001b[0m res \u001b[38;5;241m=\u001b[39m f(group)\n\u001b[0;32m    768\u001b[0m \u001b[38;5;28;01mif\u001b[39;00m \u001b[38;5;129;01mnot\u001b[39;00m mutated \u001b[38;5;129;01mand\u001b[39;00m \u001b[38;5;129;01mnot\u001b[39;00m _is_indexed_like(res, group_axes, axis):\n\u001b[0;32m    769\u001b[0m     mutated \u001b[38;5;241m=\u001b[39m \u001b[38;5;28;01mTrue\u001b[39;00m\n",
      "Cell \u001b[1;32mIn[27], line 2\u001b[0m, in \u001b[0;36mcompute_macd\u001b[1;34m(close)\u001b[0m\n\u001b[0;32m      1\u001b[0m \u001b[38;5;28;01mdef\u001b[39;00m \u001b[38;5;21mcompute_macd\u001b[39m(close):\n\u001b[1;32m----> 2\u001b[0m     macd \u001b[38;5;241m=\u001b[39m pandas_ta\u001b[38;5;241m.\u001b[39mmacd(close\u001b[38;5;241m=\u001b[39mclose, length\u001b[38;5;241m=\u001b[39m\u001b[38;5;241m20\u001b[39m)\u001b[38;5;241m.\u001b[39miloc[:,\u001b[38;5;241m0\u001b[39m]\n\u001b[0;32m      3\u001b[0m     \u001b[38;5;28;01mreturn\u001b[39;00m macd\u001b[38;5;241m.\u001b[39msub(macd\u001b[38;5;241m.\u001b[39mmean())\u001b[38;5;241m.\u001b[39mdiv(macd\u001b[38;5;241m.\u001b[39mstd())\n",
      "\u001b[1;31mAttributeError\u001b[0m: 'NoneType' object has no attribute 'iloc'"
     ]
    }
   ],
   "source": [
    "df['rsi'] = df.groupby(level = 1)['adj close'].transform(lambda x: pandas_ta.rsi(close = x, length= 20))\n",
    "\n",
    "df['bb_low'] = df.groupby(level = 1)['adj close'].transform(lambda x: pandas_ta.bbands(close = np.log1p(x), length = 20).iloc[:,0])\n",
    "\n",
    "df['bb_mid'] = df.groupby(level = 1)['adj close'].transform(lambda x: pandas_ta.bbands(close = np.log1p(x), length = 20).iloc[:,1])\n",
    "\n",
    "df['bb_upper'] = df.groupby(level = 1)['adj close'].transform(lambda x: pandas_ta.bbands(close = np.log1p(x), length = 20).iloc[:,2])\n",
    "\n",
    "df ['atr'] = df.groupby (level = 1, group_keys = False).apply(compute_atr)\n",
    "\n",
    "df['macd'] = df.groupby(level = 1, group_keys = False).apply(compute_macd)\n",
    "\n",
    "df['garman_klass_vol'] = ((np.log(df['high'])-np.log(df['low']))**2)/2-(2*np.log(2)-1)*((np.log(df['adj close'])-np.log(df['open']))**2)"
   ]
  },
  {
   "cell_type": "code",
   "execution_count": null,
   "metadata": {},
   "outputs": [],
   "source": [
    "df"
   ]
  },
  {
   "cell_type": "markdown",
   "metadata": {},
   "source": [
    "# 3. Aggregate on Monthly Level and Filter per Month the Most Liquid Stocks"
   ]
  },
  {
   "cell_type": "markdown",
   "metadata": {},
   "source": [
    "# 4. Calculate Monthly Returns for Different Time-Horizons"
   ]
  },
  {
   "cell_type": "markdown",
   "metadata": {},
   "source": [
    "# 5. Download Fama-French Factors; Calculate Rolling Factor Betas Per Stock"
   ]
  },
  {
   "cell_type": "markdown",
   "metadata": {},
   "source": [
    "# 6.  Per Month, Create a K-means Clustering Model to group similar assets based on their Features"
   ]
  },
  {
   "cell_type": "markdown",
   "metadata": {},
   "source": [
    "# 7. Per Month, Select Assets Based on the Cluster and Build a Portfolio Based on That"
   ]
  },
  {
   "cell_type": "markdown",
   "metadata": {},
   "source": [
    "# 8. Visualize the Portfolio Returns and Compare That with the SP500 "
   ]
  }
 ],
 "metadata": {
  "kernelspec": {
   "display_name": "Python 3 (ipykernel)",
   "language": "python",
   "name": "python3"
  },
  "language_info": {
   "codemirror_mode": {
    "name": "ipython",
    "version": 3
   },
   "file_extension": ".py",
   "mimetype": "text/x-python",
   "name": "python",
   "nbconvert_exporter": "python",
   "pygments_lexer": "ipython3",
   "version": "3.11.5"
  }
 },
 "nbformat": 4,
 "nbformat_minor": 2
}
